{
 "cells": [
  {
   "cell_type": "markdown",
   "metadata": {},
   "source": [
    "# Desafio 5\n",
    "\n",
    "Neste desafio, vamos praticar sobre redução de dimensionalidade com PCA e seleção de variáveis com RFE. Utilizaremos o _data set_ [Fifa 2019](https://www.kaggle.com/karangadiya/fifa19), contendo originalmente 89 variáveis de mais de 18 mil jogadores do _game_ FIFA 2019.\n",
    "\n",
    "> Obs.: Por favor, não modifique o nome das funções de resposta."
   ]
  },
  {
   "cell_type": "markdown",
   "metadata": {},
   "source": [
    "## _Setup_ geral"
   ]
  },
  {
   "cell_type": "code",
   "execution_count": 55,
   "metadata": {},
   "outputs": [],
   "source": [
    "from math import sqrt\n",
    "\n",
    "import pandas as pd\n",
    "import matplotlib.pyplot as plt\n",
    "import numpy as np\n",
    "import scipy.stats as sct\n",
    "import seaborn as sns\n",
    "import statsmodels.api as sm\n",
    "import statsmodels.stats as st\n",
    "from sklearn.decomposition import PCA\n",
    "\n",
    "#from loguru import logger"
   ]
  },
  {
   "cell_type": "code",
   "execution_count": 56,
   "metadata": {},
   "outputs": [],
   "source": [
    "# Algumas configurações para o matplotlib.\n",
    "#%matplotlib inline\n",
    "\n",
    "from IPython.core.pylabtools import figsize\n",
    "\n",
    "\n",
    "figsize(12, 8)\n",
    "\n",
    "sns.set()"
   ]
  },
  {
   "cell_type": "code",
   "execution_count": 57,
   "metadata": {
    "scrolled": false
   },
   "outputs": [],
   "source": [
    "fifa = pd.read_csv(\"data.csv\")"
   ]
  },
  {
   "cell_type": "code",
   "execution_count": 58,
   "metadata": {},
   "outputs": [],
   "source": [
    "columns_to_drop = [\"Unnamed: 0\", \"ID\", \"Name\", \"Photo\", \"Nationality\", \"Flag\",\n",
    "                   \"Club\", \"Club Logo\", \"Value\", \"Wage\", \"Special\", \"Preferred Foot\",\n",
    "                   \"International Reputation\", \"Weak Foot\", \"Skill Moves\", \"Work Rate\",\n",
    "                   \"Body Type\", \"Real Face\", \"Position\", \"Jersey Number\", \"Joined\",\n",
    "                   \"Loaned From\", \"Contract Valid Until\", \"Height\", \"Weight\", \"LS\",\n",
    "                   \"ST\", \"RS\", \"LW\", \"LF\", \"CF\", \"RF\", \"RW\", \"LAM\", \"CAM\", \"RAM\", \"LM\",\n",
    "                   \"LCM\", \"CM\", \"RCM\", \"RM\", \"LWB\", \"LDM\", \"CDM\", \"RDM\", \"RWB\", \"LB\", \"LCB\",\n",
    "                   \"CB\", \"RCB\", \"RB\", \"Release Clause\"\n",
    "]\n",
    "\n",
    "try:\n",
    "    fifa.drop(columns_to_drop, axis=1, inplace=True)\n",
    "except KeyError:\n",
    "    logger.warning(f\"Columns already dropped\")"
   ]
  },
  {
   "cell_type": "markdown",
   "metadata": {},
   "source": [
    "## Inicia sua análise a partir daqui"
   ]
  },
  {
   "cell_type": "code",
   "execution_count": 59,
   "metadata": {},
   "outputs": [
    {
     "output_type": "execute_result",
     "data": {
      "text/plain": "   Age  Overall  Potential  Crossing  Finishing  HeadingAccuracy  \\\n0   31       94         94      84.0       95.0             70.0   \n1   33       94         94      84.0       94.0             89.0   \n2   26       92         93      79.0       87.0             62.0   \n3   27       91         93      17.0       13.0             21.0   \n4   27       91         92      93.0       82.0             55.0   \n\n   ShortPassing  Volleys  Dribbling  Curve  ...  Penalties  Composure  \\\n0          90.0     86.0       97.0   93.0  ...       75.0       96.0   \n1          81.0     87.0       88.0   81.0  ...       85.0       95.0   \n2          84.0     84.0       96.0   88.0  ...       81.0       94.0   \n3          50.0     13.0       18.0   21.0  ...       40.0       68.0   \n4          92.0     82.0       86.0   85.0  ...       79.0       88.0   \n\n   Marking  StandingTackle  SlidingTackle  GKDiving  GKHandling  GKKicking  \\\n0     33.0            28.0           26.0       6.0        11.0       15.0   \n1     28.0            31.0           23.0       7.0        11.0       15.0   \n2     27.0            24.0           33.0       9.0         9.0       15.0   \n3     15.0            21.0           13.0      90.0        85.0       87.0   \n4     68.0            58.0           51.0      15.0        13.0        5.0   \n\n   GKPositioning  GKReflexes  \n0           14.0         8.0  \n1           14.0        11.0  \n2           15.0        11.0  \n3           88.0        94.0  \n4           10.0        13.0  \n\n[5 rows x 37 columns]",
      "text/html": "<div>\n<style scoped>\n    .dataframe tbody tr th:only-of-type {\n        vertical-align: middle;\n    }\n\n    .dataframe tbody tr th {\n        vertical-align: top;\n    }\n\n    .dataframe thead th {\n        text-align: right;\n    }\n</style>\n<table border=\"1\" class=\"dataframe\">\n  <thead>\n    <tr style=\"text-align: right;\">\n      <th></th>\n      <th>Age</th>\n      <th>Overall</th>\n      <th>Potential</th>\n      <th>Crossing</th>\n      <th>Finishing</th>\n      <th>HeadingAccuracy</th>\n      <th>ShortPassing</th>\n      <th>Volleys</th>\n      <th>Dribbling</th>\n      <th>Curve</th>\n      <th>...</th>\n      <th>Penalties</th>\n      <th>Composure</th>\n      <th>Marking</th>\n      <th>StandingTackle</th>\n      <th>SlidingTackle</th>\n      <th>GKDiving</th>\n      <th>GKHandling</th>\n      <th>GKKicking</th>\n      <th>GKPositioning</th>\n      <th>GKReflexes</th>\n    </tr>\n  </thead>\n  <tbody>\n    <tr>\n      <th>0</th>\n      <td>31</td>\n      <td>94</td>\n      <td>94</td>\n      <td>84.0</td>\n      <td>95.0</td>\n      <td>70.0</td>\n      <td>90.0</td>\n      <td>86.0</td>\n      <td>97.0</td>\n      <td>93.0</td>\n      <td>...</td>\n      <td>75.0</td>\n      <td>96.0</td>\n      <td>33.0</td>\n      <td>28.0</td>\n      <td>26.0</td>\n      <td>6.0</td>\n      <td>11.0</td>\n      <td>15.0</td>\n      <td>14.0</td>\n      <td>8.0</td>\n    </tr>\n    <tr>\n      <th>1</th>\n      <td>33</td>\n      <td>94</td>\n      <td>94</td>\n      <td>84.0</td>\n      <td>94.0</td>\n      <td>89.0</td>\n      <td>81.0</td>\n      <td>87.0</td>\n      <td>88.0</td>\n      <td>81.0</td>\n      <td>...</td>\n      <td>85.0</td>\n      <td>95.0</td>\n      <td>28.0</td>\n      <td>31.0</td>\n      <td>23.0</td>\n      <td>7.0</td>\n      <td>11.0</td>\n      <td>15.0</td>\n      <td>14.0</td>\n      <td>11.0</td>\n    </tr>\n    <tr>\n      <th>2</th>\n      <td>26</td>\n      <td>92</td>\n      <td>93</td>\n      <td>79.0</td>\n      <td>87.0</td>\n      <td>62.0</td>\n      <td>84.0</td>\n      <td>84.0</td>\n      <td>96.0</td>\n      <td>88.0</td>\n      <td>...</td>\n      <td>81.0</td>\n      <td>94.0</td>\n      <td>27.0</td>\n      <td>24.0</td>\n      <td>33.0</td>\n      <td>9.0</td>\n      <td>9.0</td>\n      <td>15.0</td>\n      <td>15.0</td>\n      <td>11.0</td>\n    </tr>\n    <tr>\n      <th>3</th>\n      <td>27</td>\n      <td>91</td>\n      <td>93</td>\n      <td>17.0</td>\n      <td>13.0</td>\n      <td>21.0</td>\n      <td>50.0</td>\n      <td>13.0</td>\n      <td>18.0</td>\n      <td>21.0</td>\n      <td>...</td>\n      <td>40.0</td>\n      <td>68.0</td>\n      <td>15.0</td>\n      <td>21.0</td>\n      <td>13.0</td>\n      <td>90.0</td>\n      <td>85.0</td>\n      <td>87.0</td>\n      <td>88.0</td>\n      <td>94.0</td>\n    </tr>\n    <tr>\n      <th>4</th>\n      <td>27</td>\n      <td>91</td>\n      <td>92</td>\n      <td>93.0</td>\n      <td>82.0</td>\n      <td>55.0</td>\n      <td>92.0</td>\n      <td>82.0</td>\n      <td>86.0</td>\n      <td>85.0</td>\n      <td>...</td>\n      <td>79.0</td>\n      <td>88.0</td>\n      <td>68.0</td>\n      <td>58.0</td>\n      <td>51.0</td>\n      <td>15.0</td>\n      <td>13.0</td>\n      <td>5.0</td>\n      <td>10.0</td>\n      <td>13.0</td>\n    </tr>\n  </tbody>\n</table>\n<p>5 rows × 37 columns</p>\n</div>"
     },
     "metadata": {},
     "execution_count": 59
    }
   ],
   "source": [
    "# Sua análise começa aqui.\n",
    "fifa.head()"
   ]
  },
  {
   "cell_type": "code",
   "execution_count": 60,
   "metadata": {},
   "outputs": [
    {
     "output_type": "execute_result",
     "data": {
      "text/plain": "(18207, 37)"
     },
     "metadata": {},
     "execution_count": 60
    }
   ],
   "source": [
    "fifa.shape"
   ]
  },
  {
   "cell_type": "code",
   "execution_count": 61,
   "metadata": {},
   "outputs": [
    {
     "output_type": "execute_result",
     "data": {
      "text/plain": "Age                 0\nOverall             0\nPotential           0\nCrossing           48\nFinishing          48\nHeadingAccuracy    48\nShortPassing       48\nVolleys            48\nDribbling          48\nCurve              48\nFKAccuracy         48\nLongPassing        48\nBallControl        48\nAcceleration       48\nSprintSpeed        48\nAgility            48\nReactions          48\nBalance            48\nShotPower          48\nJumping            48\nStamina            48\nStrength           48\nLongShots          48\nAggression         48\nInterceptions      48\nPositioning        48\nVision             48\nPenalties          48\nComposure          48\nMarking            48\nStandingTackle     48\nSlidingTackle      48\nGKDiving           48\nGKHandling         48\nGKKicking          48\nGKPositioning      48\nGKReflexes         48\ndtype: int64"
     },
     "metadata": {},
     "execution_count": 61
    }
   ],
   "source": [
    "fifa.isna().sum()"
   ]
  },
  {
   "cell_type": "code",
   "execution_count": 69,
   "metadata": {},
   "outputs": [
    {
     "output_type": "execute_result",
     "data": {
      "text/plain": "Age                0\nOverall            0\nPotential          0\nCrossing           0\nFinishing          0\nHeadingAccuracy    0\nShortPassing       0\nVolleys            0\nDribbling          0\nCurve              0\nFKAccuracy         0\nLongPassing        0\nBallControl        0\nAcceleration       0\nSprintSpeed        0\nAgility            0\nReactions          0\nBalance            0\nShotPower          0\nJumping            0\nStamina            0\nStrength           0\nLongShots          0\nAggression         0\nInterceptions      0\nPositioning        0\nVision             0\nPenalties          0\nComposure          0\nMarking            0\nStandingTackle     0\nSlidingTackle      0\nGKDiving           0\nGKHandling         0\nGKKicking          0\nGKPositioning      0\nGKReflexes         0\ndtype: int64"
     },
     "metadata": {},
     "execution_count": 69
    }
   ],
   "source": [
    "fifa_nan = fifa.dropna()\n",
    "fifa_nan.isna().sum()"
   ]
  },
  {
   "cell_type": "markdown",
   "metadata": {},
   "source": [
    "## Questão 1\n",
    "\n",
    "Qual fração da variância consegue ser explicada pelo primeiro componente principal de `fifa`? Responda como um único float (entre 0 e 1) arredondado para três casas decimais."
   ]
  },
  {
   "cell_type": "code",
   "execution_count": 81,
   "metadata": {},
   "outputs": [
    {
     "output_type": "execute_result",
     "data": {
      "text/plain": "0.565"
     },
     "metadata": {},
     "execution_count": 81
    }
   ],
   "source": [
    "def q1():\n",
    "    pca = PCA(n_components = 1).fit(fifa_nan)\n",
    "    return round(float(pca.explained_variance_ratio_), 3)\n",
    "q1()"
   ]
  },
  {
   "cell_type": "markdown",
   "metadata": {},
   "source": [
    "## Questão 2\n",
    "\n",
    "Quantos componentes principais precisamos para explicar 95% da variância total? Responda como un único escalar inteiro."
   ]
  },
  {
   "cell_type": "code",
   "execution_count": 73,
   "metadata": {},
   "outputs": [
    {
     "output_type": "execute_result",
     "data": {
      "text/plain": "15"
     },
     "metadata": {},
     "execution_count": 73
    }
   ],
   "source": [
    "def q2():\n",
    "    pca_095 = PCA(n_components=0.95)\n",
    "    X_reduced = pca_095.fit_transform(fifa_nan)\n",
    "    return X_reduced.shape[1] # Segundo elemento da tupla é o número de componentes encontrados.  \n",
    "q2()"
   ]
  },
  {
   "cell_type": "markdown",
   "metadata": {},
   "source": [
    "## Questão 3\n",
    "\n",
    "Qual são as coordenadas (primeiro e segundo componentes principais) do ponto `x` abaixo? O vetor abaixo já está centralizado. Cuidado para __não__ centralizar o vetor novamente (por exemplo, invocando `PCA.transform()` nele). Responda como uma tupla de float arredondados para três casas decimais."
   ]
  },
  {
   "cell_type": "code",
   "execution_count": 87,
   "metadata": {},
   "outputs": [],
   "source": [
    "x = [0.87747123,  -1.24990363,  -1.3191255, -36.7341814,\n",
    "     -35.55091139, -37.29814417, -28.68671182, -30.90902583,\n",
    "     -42.37100061, -32.17082438, -28.86315326, -22.71193348,\n",
    "     -38.36945867, -20.61407566, -22.72696734, -25.50360703,\n",
    "     2.16339005, -27.96657305, -33.46004736,  -5.08943224,\n",
    "     -30.21994603,   3.68803348, -36.10997302, -30.86899058,\n",
    "     -22.69827634, -37.95847789, -22.40090313, -30.54859849,\n",
    "     -26.64827358, -19.28162344, -34.69783578, -34.6614351,\n",
    "     48.38377664,  47.60840355,  45.76793876,  44.61110193,\n",
    "     49.28911284\n",
    "]"
   ]
  },
  {
   "cell_type": "code",
   "execution_count": 90,
   "metadata": {},
   "outputs": [
    {
     "output_type": "execute_result",
     "data": {
      "text/plain": "(186.556, -6.592)"
     },
     "metadata": {},
     "execution_count": 90
    }
   ],
   "source": [
    "def q3():\n",
    "    pca_q3 = PCA(n_components = 2)\n",
    "    pca_q3.fit(fifa_nan)\n",
    "    return tuple(np.round(pca_q3.components_.dot(x),3))\n",
    "q3()"
   ]
  },
  {
   "cell_type": "markdown",
   "metadata": {},
   "source": [
    "## Questão 4\n",
    "\n",
    "Realiza RFE com estimador de regressão linear para selecionar cinco variáveis, eliminando uma a uma. Quais são as variáveis selecionadas? Responda como uma lista de nomes de variáveis."
   ]
  },
  {
   "cell_type": "code",
   "execution_count": 94,
   "metadata": {},
   "outputs": [
    {
     "output_type": "execute_result",
     "data": {
      "text/plain": "['Age', 'Potential', 'BallControl', 'Reactions', 'GKReflexes']"
     },
     "metadata": {},
     "execution_count": 94
    }
   ],
   "source": [
    "from sklearn.linear_model import LinearRegression\n",
    "from sklearn.feature_selection import RFE\n",
    "\n",
    "def q4():\n",
    "    x = fifa_nan.drop('Overall', axis=1) # features\n",
    "    y = fifa_nan['Overall'] # alvo\n",
    "    reg = LinearRegression().fit(x,y)\n",
    "    rfe = RFE(reg, n_features_to_select=5).fit(x, y)\n",
    "    nom_var = x.loc[:,rfe.get_support()].columns\n",
    "    return list(nom_var)\n",
    "q4()"
   ]
  }
 ],
 "metadata": {
  "kernelspec": {
   "display_name": "Python 3",
   "language": "python",
   "name": "python3"
  },
  "language_info": {
   "codemirror_mode": {
    "name": "ipython",
    "version": 3
   },
   "file_extension": ".py",
   "mimetype": "text/x-python",
   "name": "python",
   "nbconvert_exporter": "python",
   "pygments_lexer": "ipython3",
   "version": "3.8.2-final"
  }
 },
 "nbformat": 4,
 "nbformat_minor": 2
}